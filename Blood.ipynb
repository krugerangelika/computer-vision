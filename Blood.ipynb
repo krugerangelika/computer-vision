{
  "nbformat": 4,
  "nbformat_minor": 0,
  "metadata": {
    "colab": {
      "name": "Blood.ipynb",
      "provenance": [],
      "authorship_tag": "ABX9TyOhJs6hQ5JQs4DQ1N5bEoQB",
      "include_colab_link": true
    },
    "kernelspec": {
      "name": "python3",
      "display_name": "Python 3"
    },
    "language_info": {
      "name": "python"
    }
  },
  "cells": [
    {
      "cell_type": "markdown",
      "metadata": {
        "id": "view-in-github",
        "colab_type": "text"
      },
      "source": [
        "<a href=\"https://colab.research.google.com/github/krugerangelika/computer-vision/blob/main/Blood.ipynb\" target=\"_parent\"><img src=\"https://colab.research.google.com/assets/colab-badge.svg\" alt=\"Open In Colab\"/></a>"
      ]
    },
    {
      "cell_type": "markdown",
      "source": [
        "# Operacje na obrazach przy użyciu biblioteki OpenCV \n",
        "https://opencv.org/"
      ],
      "metadata": {
        "id": "gAZkKW6PtlS2"
      }
    },
    {
      "cell_type": "markdown",
      "source": [
        "1. Zainstalowanie oraz import bibliotek,\n",
        "2. Wczytanie obrazu,\n",
        "3. Zapisywanie obrazu do plików,\n",
        "4. Wczytanie obrazu w odcieniach szarości,\n",
        "5. Dodawanie obrazów (Image Addition),\n",
        "6. Image Blending,\n",
        "7. Wycięcie fragmentów obrazu,\n",
        "8. Modyfikacja obrazu,\n",
        "9. Obramowanie obrazu."
      ],
      "metadata": {
        "id": "1xVpJT7xttKl"
      }
    }
  ]
}